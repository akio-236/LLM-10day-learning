{
 "cells": [
  {
   "cell_type": "code",
   "execution_count": null,
   "id": "d7285c03-3e16-48ef-b3d7-c674db17bc0f",
   "metadata": {},
   "outputs": [],
   "source": []
  }
 ],
 "metadata": {
  "kernelspec": {
   "display_name": "",
   "name": ""
  },
  "language_info": {
   "name": ""
  }
 },
 "nbformat": 4,
 "nbformat_minor": 5
}
